{
 "cells": [
  {
   "cell_type": "markdown",
   "id": "4ae80f16",
   "metadata": {},
   "source": [
    "### 1. What does one mean by the term \"machine learning\"?"
   ]
  },
  {
   "cell_type": "markdown",
   "id": "6495c8ce",
   "metadata": {},
   "source": [
    "Machine learning is a branch of artificial intelligence (AI) and computer science which focuses on the use of data and algorithms to imitate the way that humans learn, gradually improving its accuracy."
   ]
  },
  {
   "cell_type": "markdown",
   "id": "e0550ec1",
   "metadata": {},
   "source": [
    "### 2.Can you think of 4 distinct types of issues where it shines?"
   ]
  },
  {
   "cell_type": "markdown",
   "id": "db5486d5",
   "metadata": {},
   "source": [
    "Machine Learning is great for complex problems for which we have no algorithmic solution, to replace long lists of hand-tuned rules, to build systems that adapt to fluctuating environments, and finally to help humans learn (e.g., data mining)."
   ]
  },
  {
   "cell_type": "markdown",
   "id": "8adf2238",
   "metadata": {},
   "source": [
    "### 3.What is a labeled training set, and how does it work?"
   ]
  },
  {
   "cell_type": "markdown",
   "id": "a1a6a9f8",
   "metadata": {},
   "source": [
    "The training set is used to train the algorithm, and then you use the trained model on the test set to predict the response variable values that are already known.\n",
    "\n",
    "A labeled training set is a training set that contains the desired solution (a.k.a. a label) for each instance."
   ]
  },
  {
   "cell_type": "markdown",
   "id": "5bac4c3c",
   "metadata": {},
   "source": [
    "### 4.What are the two most important tasks that are supervised?"
   ]
  },
  {
   "cell_type": "markdown",
   "id": "856da2dc",
   "metadata": {},
   "source": [
    "The two most common supervised tasks are regression and classification."
   ]
  },
  {
   "cell_type": "markdown",
   "id": "6aeae813",
   "metadata": {},
   "source": [
    "### 5.Can you think of four examples of unsupervised tasks?"
   ]
  },
  {
   "cell_type": "markdown",
   "id": "1ea1b2c8",
   "metadata": {},
   "source": [
    "Common unsupervised tasks include clustering, visualization, dimensionality reduction, and association rule learning."
   ]
  },
  {
   "cell_type": "markdown",
   "id": "94bab631",
   "metadata": {},
   "source": [
    "### 6.State the machine learning model that would be best to make a robot walk through various unfamiliar terrains?"
   ]
  },
  {
   "cell_type": "markdown",
   "id": "11fe1a20",
   "metadata": {},
   "source": [
    "Reinforcement Learning is likely to perform best if we want a robot to learn to walk in various unknown terrains, since this is typically the type of problem that Reinforcement Learning tackles. It might be possible to express the problem as a supervised or semisupervised learning problem, but it would be less natural."
   ]
  },
  {
   "cell_type": "markdown",
   "id": "ea82a3c7",
   "metadata": {},
   "source": [
    "### 7.Which algorithm will you use to divide your customers into different groups?"
   ]
  },
  {
   "cell_type": "markdown",
   "id": "fd9ebc0d",
   "metadata": {},
   "source": [
    "If you don’t know how to define the groups, then you can use a clustering algorithm (unsupervised learning) to segment your customers into clusters of similar customers. However, if you know what groups you would like to have, then you can feed many examples of each group to a classification algorithm (supervised learning), and it will classify all your customers into these groups.\n"
   ]
  },
  {
   "cell_type": "markdown",
   "id": "df7da88a",
   "metadata": {},
   "source": [
    "### 8.Will you consider the problem of spam detection to be a supervised or unsupervised learning problem?"
   ]
  },
  {
   "cell_type": "markdown",
   "id": "507b53ab",
   "metadata": {},
   "source": [
    "Spam detection is a typical supervised learning problem: the algorithm is fed many emails along with their labels (spam or not spam)."
   ]
  },
  {
   "cell_type": "markdown",
   "id": "55321ce9",
   "metadata": {},
   "source": [
    "### 9.What is the concept of an online learning system?"
   ]
  },
  {
   "cell_type": "markdown",
   "id": "519fad36",
   "metadata": {},
   "source": [
    "An online learning system can learn incrementally, as opposed to a batch learning system. This makes it capable of adapting rapidly to both changing data and autonomous systems, and of training on very large quantities of data."
   ]
  },
  {
   "cell_type": "markdown",
   "id": "6e7ea795",
   "metadata": {},
   "source": [
    "### 10.What is out-of-core learning, and how does it differ from core learning?"
   ]
  },
  {
   "cell_type": "markdown",
   "id": "4bf2bc95",
   "metadata": {},
   "source": [
    "The term out-of-core typically refers to processing data that is too large to fit into a computer’s main memory.\n",
    "Out-of-core algorithms can handle vast quantities of data that cannot fit in a computer’s main memory. An out-of-core learning algorithm chops the data into mini-batches and uses online learning techniques to learn from these mini-batches."
   ]
  },
  {
   "cell_type": "markdown",
   "id": "af1c6f88",
   "metadata": {},
   "source": [
    "### 11.What kind of learning algorithm makes predictions using a similarity measure?"
   ]
  },
  {
   "cell_type": "markdown",
   "id": "5642df53",
   "metadata": {},
   "source": [
    "An instance-based learning system learns the training data by heart; then, when given a new instance, it uses a similarity measure to find the most similar learned instances and uses them to make predictions."
   ]
  },
  {
   "cell_type": "markdown",
   "id": "07c80de9",
   "metadata": {},
   "source": [
    "### 12.What's the difference between a model parameter and a hyperparameter in a learning algorithm?"
   ]
  },
  {
   "cell_type": "markdown",
   "id": "1baba99b",
   "metadata": {},
   "source": [
    "Model parameters are estimated from data automatically and model hyperparameters are set manually and are used in processes to help estimate model parameters.\n",
    "\n",
    "Model hyperparameters are often referred to as parameters because they are the parts of the machine learning that must be set manually and tuned."
   ]
  },
  {
   "cell_type": "markdown",
   "id": "6bc4b638",
   "metadata": {},
   "source": [
    "### 13.What are the criteria that model-based learning algorithms look for? What is the most popular method they use to achieve success? What method do they use to make predictions?"
   ]
  },
  {
   "cell_type": "markdown",
   "id": "de0cdf6e",
   "metadata": {},
   "source": [
    "Model-based learning algorithms search for an optimal value for the model parameters such that the model will generalize well to new instances. We usually train such systems by minimizing a cost function that measures how bad the system is at making predictions on the training data, plus a penalty for model complexity if the model is regularized. To make predictions, we feed the new instance’s features into the model’s prediction function, using the parameter values found by the learning algorithm."
   ]
  },
  {
   "cell_type": "markdown",
   "id": "2c8d7a39",
   "metadata": {},
   "source": [
    "### 14.Can you name four of the most important Machine Learning challenges?"
   ]
  },
  {
   "cell_type": "markdown",
   "id": "52b4954d",
   "metadata": {},
   "source": [
    "Some of the main challenges in Machine Learning are the lack of data, poor data quality, nonrepresentative data, uninformative features, excessively simple models that underfit the training data, and excessively complex models that overfit the data."
   ]
  },
  {
   "cell_type": "markdown",
   "id": "a55a00ca",
   "metadata": {},
   "source": [
    "### 15.What happens if the model performs well on the training data but fails to generalize the results to new situations? Can you think of three different options?"
   ]
  },
  {
   "cell_type": "markdown",
   "id": "503c5d04",
   "metadata": {},
   "source": [
    "If a model performs great on the training data but generalizes poorly to new instances, the model is likely overfitting the training data (or we got extremely lucky on the training data). Possible solutions to overfitting are getting more data, simplifying the model (selecting a simpler algorithm, reducing the number of parameters or features used, or regularizing the model), or reducing the noise in the training data."
   ]
  },
  {
   "cell_type": "markdown",
   "id": "87db5772",
   "metadata": {},
   "source": [
    "### 16.What exactly is a test set, and why would you need one?"
   ]
  },
  {
   "cell_type": "markdown",
   "id": "7a2f06b7",
   "metadata": {},
   "source": [
    "A test set is used to estimate the generalization error that a model will make on new instances, before the model is launched in production."
   ]
  },
  {
   "cell_type": "markdown",
   "id": "f93804f2",
   "metadata": {},
   "source": [
    "### 17.What is a validation set's purpose?"
   ]
  },
  {
   "cell_type": "markdown",
   "id": "7c0f7f4b",
   "metadata": {},
   "source": [
    "A validation set is a set of data used to train artificial intelligence (AI) with the goal of finding and optimizing the best model to solve a given problem. Validation sets are also known as dev sets."
   ]
  },
  {
   "cell_type": "markdown",
   "id": "e5267c71",
   "metadata": {},
   "source": [
    "### 18.What precisely is the train-dev kit, when will you need it, how do you put it to use?"
   ]
  },
  {
   "cell_type": "markdown",
   "id": "3a552b1a",
   "metadata": {},
   "source": [
    "The train-dev set is used when there is a risk of mismatch between the training data and the data used in the validation and test datasets (which should always be as close as possible to the data used once the model is in production). The train-dev set is a part of the training set that’s held out (the model is not trained on it). The model is trained on the rest of the training set, and evaluated on both the train-dev set and the validation set. If the model performs well on the training set but not on the train-dev set, then the model is likely overfitting the training set. If it performs well on both the training set and the train-dev set, but not on the validation set, then there is probably a significant data mismatch between the training data and the validation + test data, and you should try to improve the training data to make it look more like the validation + test data."
   ]
  },
  {
   "cell_type": "markdown",
   "id": "3f2a8dcc",
   "metadata": {},
   "source": [
    "### 19.What could go wrong if you use the test set to tune hyperparameters?"
   ]
  },
  {
   "cell_type": "markdown",
   "id": "82eaea21",
   "metadata": {},
   "source": [
    "If you tune hyperparameters using the test set, you risk overfitting the test set, and the generalization error you measure will be optimistic (you may launch a model that performs worse than you expect)."
   ]
  }
 ],
 "metadata": {
  "kernelspec": {
   "display_name": "Python 3 (ipykernel)",
   "language": "python",
   "name": "python3"
  },
  "language_info": {
   "codemirror_mode": {
    "name": "ipython",
    "version": 3
   },
   "file_extension": ".py",
   "mimetype": "text/x-python",
   "name": "python",
   "nbconvert_exporter": "python",
   "pygments_lexer": "ipython3",
   "version": "3.9.7"
  }
 },
 "nbformat": 4,
 "nbformat_minor": 5
}
