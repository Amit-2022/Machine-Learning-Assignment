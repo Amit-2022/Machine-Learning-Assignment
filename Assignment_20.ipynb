{
 "cells": [
  {
   "cell_type": "markdown",
   "id": "afdb175e",
   "metadata": {},
   "source": [
    "## 1. What is the underlying concept of Support Vector Machines?"
   ]
  },
  {
   "cell_type": "markdown",
   "id": "d3a77ae7",
   "metadata": {},
   "source": [
    "“Support Vector Machine” (SVM) is a supervised machine learning algorithm which can be used for both classification or regression challenges. However, it is mostly used in classification problems. In the SVM algorithm, we plot each data item as a point in n-dimensional space (where n is number of features you have) with the value of each feature being the value of a particular coordinate. Then, we perform classification by finding the hyper-plane that differentiates the two classes very well. Support Vectors are simply the co-ordinates of individual observation. The SVM classifier is a frontier which best segregates the two classes (hyper-plane/ line)."
   ]
  },
  {
   "cell_type": "markdown",
   "id": "04a468c3",
   "metadata": {},
   "source": [
    "## 2. What is the concept of a support vector?"
   ]
  },
  {
   "cell_type": "markdown",
   "id": "b049f778",
   "metadata": {},
   "source": [
    "Support vectors are data points that are closer to the hyperplane and influence the position and orientation of the hyperplane. Using these support vectors, we maximize the margin of the classifier. Deleting the support vectors will change the position of the hyperplane. These are the points that help us build our SVM."
   ]
  },
  {
   "cell_type": "markdown",
   "id": "fe92644c",
   "metadata": {},
   "source": [
    "## 3. When using SVMs, why is it necessary to scale the inputs?"
   ]
  },
  {
   "cell_type": "markdown",
   "id": "ade91102",
   "metadata": {},
   "source": [
    "Because Support Vector Machine (SVM) optimization occurs by minimizing the decision vector w, the optimal hyperplane is influenced by the scale of the input features and it’s therefore recommended that data be standardized (mean 0, var 1) prior to SVM model training. Advantage of scaling is to avoid attributes in greater numeric ranges dominating those in smaller numeric ranges. Another advantage is to avoid numerical difficulties during the kernel calculation."
   ]
  },
  {
   "cell_type": "markdown",
   "id": "8a6085ce",
   "metadata": {},
   "source": [
    "## 4. When an SVM classifier classifies a case, can it output a confidence score? What about a percentage chance?"
   ]
  },
  {
   "cell_type": "markdown",
   "id": "75e754b4",
   "metadata": {},
   "source": [
    "An SVM classifier can give the distance between the test instance and the decision boundary as output, so we can use that as a confidence score, but we cannot use this score to directly converted it into class probabilities. But if you set probability=True when building a model of SVM in Scikit-Learn, then after training it will calibrate the probabilities using Logistic Regression on the SVM’s scores. By using this techniques, we can add the predict_proba() and predict_log_proba() methods to the SVM model."
   ]
  },
  {
   "cell_type": "markdown",
   "id": "4f868c8b",
   "metadata": {},
   "source": [
    "## 5. Should you train a model on a training set with millions of instances and hundreds of features using the primal or dual form of the SVM problem?"
   ]
  },
  {
   "cell_type": "markdown",
   "id": "bac1476d",
   "metadata": {},
   "source": [
    "This question applies only to linear SVMs since kernelized can only use the dual form. The computational complexity of the primal form of the SVM problem is proportional to the number of training instances m, while the computational complexity of the dual form is proportional to a number between m2 and m3. So if there are millions of instances, you should definitely use the primal form, because the dual form will be much too slow. The dual problem is faster to solve than the primal when the number of training instances is smaller than the number of features"
   ]
  },
  {
   "cell_type": "markdown",
   "id": "ce360573",
   "metadata": {},
   "source": [
    "## 6. Let's say you've used an RBF kernel to train an SVM classifier, but it appears to underfit the training collection. Is it better to raise or lower (gamma)? What about the letter C?"
   ]
  },
  {
   "cell_type": "markdown",
   "id": "98bdcc40",
   "metadata": {},
   "source": [
    "There might be too much regularization. To decrease it, you need to increase gamma or C (or both). Increasing gamma makes the bell-shape curve narrower, and as a result each instance's range of influence is smaller: the decision boundary ends up being more irregular, wiggling around individual instances. Conversely, a small gamma value makes the bell-shaped curve wider, so instances have a larger range of influence, and the decision boundary ends up smoother. A smaller C value leads to a wider street but more margin violations."
   ]
  },
  {
   "cell_type": "markdown",
   "id": "8b0ec850",
   "metadata": {},
   "source": [
    "## 7. To solve the soft margin linear SVM classifier problem with an off-the-shelf QP solver, how should the QP parameters (H, f, A, and b) be set?"
   ]
  },
  {
   "cell_type": "markdown",
   "id": "6ba197d0",
   "metadata": {},
   "source": [
    "We set the QP parameters for the hard margin problem as H, f, A, and b. The QP parameters for the soft margin problem will have m additional parameters and m additional constrains.\n",
    "\n",
    "Thus, H is equal to H plus m columns of 0s on the right and m rows of 0s at the bottom. f is euqal to f with m additional elements all equal to the value of hyperparameter C. A is equal to A with extra m*m identity matrix appended to the right. b is equal to b with m additional elements all equal to 0."
   ]
  },
  {
   "cell_type": "markdown",
   "id": "f5a2d6ee",
   "metadata": {},
   "source": [
    "\n",
    "## 8. On a linearly separable dataset, train a LinearSVC. Then, using the same dataset, train an SVC and an SGDClassifier. See if you can get them to make a model that is similar to yours.\n"
   ]
  },
  {
   "cell_type": "markdown",
   "id": "ff89ab1f",
   "metadata": {},
   "source": [
    "Of course it depends on the dataset and of course a lot of other factors add weight but today in this small post I’ll demonstrate how to use LinearSVC , SVC classifier and SGD classifier via Python code and also compare results for the same dataset. Since classifiers are very sensitive to outliers we need to scale them but before we need to pick the right dataset, for simpler results I’ll showcase the benchmark dataset for all classifiers — the Iris dataset."
   ]
  },
  {
   "cell_type": "markdown",
   "id": "2431b1b2",
   "metadata": {},
   "source": [
    "## 9. On the MNIST dataset, train an SVM classifier. You'll need to use one-versus-the-rest to assign all 10 digits because SVM classifiers are binary classifiers. To accelerate up the process, you might want to tune the hyperparameters using small validation sets. What level of precision can you achieve?"
   ]
  },
  {
   "cell_type": "code",
   "execution_count": 2,
   "id": "62d034ff",
   "metadata": {},
   "outputs": [],
   "source": [
    "from sklearn.datasets import fetch_openml\n",
    "import numpy as np\n",
    "mnist = fetch_openml('mnist_784', version=1, cache=True, as_frame=False)\n",
    "\n",
    "X = mnist[\"data\"]\n",
    "y = mnist[\"target\"].astype(np.uint8)\n",
    "\n",
    "X_train = X[:60000]\n",
    "y_train = y[:60000]\n",
    "X_test = X[60000:]\n",
    "y_test = y[60000:]"
   ]
  },
  {
   "cell_type": "markdown",
   "id": "6f8d0f02",
   "metadata": {},
   "source": [
    "Many training algorithms are sensitive to the order of the training instances, so it's generally good practice to shuffle them first. However, the dataset is already shuffled, so we do not need to do it.\n",
    "\n",
    "Let's start simple, with a linear SVM classifier. It will automatically use the One-vs-All (also called One-vs-the-Rest, OvR) strategy, so there's nothing special we need to do. Easy!\n",
    "\n",
    "Warning: this may take a few minutes depending on your hardware."
   ]
  },
  {
   "cell_type": "code",
   "execution_count": 4,
   "id": "79657d4a",
   "metadata": {},
   "outputs": [
    {
     "name": "stderr",
     "output_type": "stream",
     "text": [
      "C:\\Users\\amitp\\anaconda3\\lib\\site-packages\\sklearn\\svm\\_base.py:1206: ConvergenceWarning: Liblinear failed to converge, increase the number of iterations.\n",
      "  warnings.warn(\n"
     ]
    },
    {
     "data": {
      "text/plain": [
       "LinearSVC(random_state=42)"
      ]
     },
     "execution_count": 4,
     "metadata": {},
     "output_type": "execute_result"
    }
   ],
   "source": [
    "from sklearn.svm import SVC, LinearSVC\n",
    "from sklearn.linear_model import SGDClassifier\n",
    "from sklearn.preprocessing import StandardScaler\n",
    "lin_clf = LinearSVC(random_state=42)\n",
    "lin_clf.fit(X_train, y_train)"
   ]
  },
  {
   "cell_type": "markdown",
   "id": "ba827b10",
   "metadata": {},
   "source": [
    "Let's make predictions on the training set and measure the accuracy (we don't want to measure it on the test set yet, since we have not selected and trained the final model yet):"
   ]
  },
  {
   "cell_type": "code",
   "execution_count": 5,
   "id": "6da1168d",
   "metadata": {},
   "outputs": [
    {
     "data": {
      "text/plain": [
       "0.8348666666666666"
      ]
     },
     "execution_count": 5,
     "metadata": {},
     "output_type": "execute_result"
    }
   ],
   "source": [
    "from sklearn.metrics import accuracy_score\n",
    "\n",
    "y_pred = lin_clf.predict(X_train)\n",
    "accuracy_score(y_train, y_pred)"
   ]
  },
  {
   "cell_type": "markdown",
   "id": "d34aced9",
   "metadata": {},
   "source": [
    "Okay, 83.5% accuracy on MNIST is pretty bad. This linear model is certainly too simple for MNIST, but perhaps we just needed to scale the data first:"
   ]
  },
  {
   "cell_type": "code",
   "execution_count": 6,
   "id": "c6644f33",
   "metadata": {},
   "outputs": [],
   "source": [
    "scaler = StandardScaler()\n",
    "X_train_scaled = scaler.fit_transform(X_train.astype(np.float32))\n",
    "X_test_scaled = scaler.transform(X_test.astype(np.float32))"
   ]
  },
  {
   "cell_type": "markdown",
   "id": "ceb87c00",
   "metadata": {},
   "source": [
    "Warning: this may take a few minutes depending on your hardware."
   ]
  },
  {
   "cell_type": "code",
   "execution_count": 7,
   "id": "4c10b234",
   "metadata": {},
   "outputs": [
    {
     "name": "stderr",
     "output_type": "stream",
     "text": [
      "C:\\Users\\amitp\\anaconda3\\lib\\site-packages\\sklearn\\svm\\_base.py:1206: ConvergenceWarning: Liblinear failed to converge, increase the number of iterations.\n",
      "  warnings.warn(\n"
     ]
    },
    {
     "data": {
      "text/plain": [
       "LinearSVC(random_state=42)"
      ]
     },
     "execution_count": 7,
     "metadata": {},
     "output_type": "execute_result"
    }
   ],
   "source": [
    "lin_clf = LinearSVC(random_state=42)\n",
    "lin_clf.fit(X_train_scaled, y_train)"
   ]
  },
  {
   "cell_type": "code",
   "execution_count": 8,
   "id": "b24b1d17",
   "metadata": {},
   "outputs": [
    {
     "data": {
      "text/plain": [
       "0.9214"
      ]
     },
     "execution_count": 8,
     "metadata": {},
     "output_type": "execute_result"
    }
   ],
   "source": [
    "y_pred = lin_clf.predict(X_train_scaled)\n",
    "accuracy_score(y_train, y_pred)"
   ]
  },
  {
   "cell_type": "markdown",
   "id": "6db2065b",
   "metadata": {},
   "source": [
    "That's much better (we cut the error rate by about 53%), but still not great at all for MNIST. If we want to use an SVM, we will have to use a kernel. Let's try an SVC with an RBF kernel (the default).\n",
    "\n",
    "Note: to be future-proof we set gamma=\"scale\" since it will be the default value in Scikit-Learn 0.22."
   ]
  },
  {
   "cell_type": "code",
   "execution_count": 9,
   "id": "c257f077",
   "metadata": {},
   "outputs": [
    {
     "data": {
      "text/plain": [
       "SVC()"
      ]
     },
     "execution_count": 9,
     "metadata": {},
     "output_type": "execute_result"
    }
   ],
   "source": [
    "svm_clf = SVC(gamma=\"scale\")\n",
    "svm_clf.fit(X_train_scaled[:10000], y_train[:10000])"
   ]
  },
  {
   "cell_type": "code",
   "execution_count": 10,
   "id": "66b32fcf",
   "metadata": {},
   "outputs": [
    {
     "data": {
      "text/plain": [
       "0.9455333333333333"
      ]
     },
     "execution_count": 10,
     "metadata": {},
     "output_type": "execute_result"
    }
   ],
   "source": [
    "y_pred = svm_clf.predict(X_train_scaled)\n",
    "accuracy_score(y_train, y_pred)"
   ]
  },
  {
   "cell_type": "markdown",
   "id": "7b94165c",
   "metadata": {},
   "source": [
    "That's promising, we get better performance even though we trained the model on 6 times less data. Let's tune the hyperparameters by doing a randomized search with cross validation. We will do this on a small dataset just to speed up the process:"
   ]
  },
  {
   "cell_type": "code",
   "execution_count": 11,
   "id": "69c01b49",
   "metadata": {},
   "outputs": [
    {
     "name": "stdout",
     "output_type": "stream",
     "text": [
      "Fitting 3 folds for each of 10 candidates, totalling 30 fits\n",
      "[CV] END ..C=10.681547960095235, gamma=0.0028158224555557415; total time=   0.1s\n",
      "[CV] END ..C=10.681547960095235, gamma=0.0028158224555557415; total time=   0.1s\n",
      "[CV] END ..C=10.681547960095235, gamma=0.0028158224555557415; total time=   0.1s\n",
      "[CV] END ....C=2.925568364659578, gamma=0.004161140909269049; total time=   0.1s\n",
      "[CV] END ....C=2.925568364659578, gamma=0.004161140909269049; total time=   0.2s\n",
      "[CV] END ....C=2.925568364659578, gamma=0.004161140909269049; total time=   0.1s\n",
      "[CV] END ....C=8.59408271797526, gamma=0.0032594242889414397; total time=   0.1s\n",
      "[CV] END ....C=8.59408271797526, gamma=0.0032594242889414397; total time=   0.1s\n",
      "[CV] END ....C=8.59408271797526, gamma=0.0032594242889414397; total time=   0.1s\n",
      "[CV] END ....C=1.9669720862883824, gamma=0.09882261086465988; total time=   0.1s\n",
      "[CV] END ....C=1.9669720862883824, gamma=0.09882261086465988; total time=   0.2s\n",
      "[CV] END ....C=1.9669720862883824, gamma=0.09882261086465988; total time=   0.1s\n",
      "[CV] END ...C=4.8261134364433245, gamma=0.024815131899797685; total time=   0.1s\n",
      "[CV] END ...C=4.8261134364433245, gamma=0.024815131899797685; total time=   0.2s\n",
      "[CV] END ...C=4.8261134364433245, gamma=0.024815131899797685; total time=   0.1s\n",
      "[CV] END ....C=2.5009249224760133, gamma=0.07068440440078186; total time=   0.1s\n",
      "[CV] END ....C=2.5009249224760133, gamma=0.07068440440078186; total time=   0.2s\n",
      "[CV] END ....C=2.5009249224760133, gamma=0.07068440440078186; total time=   0.1s\n",
      "[CV] END ....C=2.3777212445737064, gamma=0.04565276963096621; total time=   0.2s\n",
      "[CV] END ....C=2.3777212445737064, gamma=0.04565276963096621; total time=   0.2s\n",
      "[CV] END ....C=2.3777212445737064, gamma=0.04565276963096621; total time=   0.1s\n",
      "[CV] END ....C=5.631972947467164, gamma=0.005326015341848828; total time=   0.1s\n",
      "[CV] END ....C=5.631972947467164, gamma=0.005326015341848828; total time=   0.1s\n",
      "[CV] END ....C=5.631972947467164, gamma=0.005326015341848828; total time=   0.1s\n",
      "[CV] END .....C=5.551115602289638, gamma=0.03651018894257797; total time=   0.1s\n",
      "[CV] END .....C=5.551115602289638, gamma=0.03651018894257797; total time=   0.1s\n",
      "[CV] END .....C=5.551115602289638, gamma=0.03651018894257797; total time=   0.1s\n",
      "[CV] END ....C=4.198013260950063, gamma=0.004143606775841094; total time=   0.1s\n",
      "[CV] END ....C=4.198013260950063, gamma=0.004143606775841094; total time=   0.1s\n",
      "[CV] END ....C=4.198013260950063, gamma=0.004143606775841094; total time=   0.1s\n"
     ]
    },
    {
     "data": {
      "text/plain": [
       "RandomizedSearchCV(cv=3, estimator=SVC(),\n",
       "                   param_distributions={'C': <scipy.stats._distn_infrastructure.rv_frozen object at 0x000001EB91C048E0>,\n",
       "                                        'gamma': <scipy.stats._distn_infrastructure.rv_frozen object at 0x000001EB91BF6DC0>},\n",
       "                   verbose=2)"
      ]
     },
     "execution_count": 11,
     "metadata": {},
     "output_type": "execute_result"
    }
   ],
   "source": [
    "from sklearn.model_selection import RandomizedSearchCV\n",
    "from scipy.stats import reciprocal, uniform\n",
    "\n",
    "param_distributions = {\"gamma\": reciprocal(0.001, 0.1), \"C\": uniform(1, 10)}\n",
    "rnd_search_cv = RandomizedSearchCV(svm_clf, param_distributions, n_iter=10, verbose=2, cv=3)\n",
    "rnd_search_cv.fit(X_train_scaled[:1000], y_train[:1000])"
   ]
  },
  {
   "cell_type": "code",
   "execution_count": 12,
   "id": "e82150ca",
   "metadata": {},
   "outputs": [
    {
     "data": {
      "text/plain": [
       "SVC(C=10.681547960095235, gamma=0.0028158224555557415)"
      ]
     },
     "execution_count": 12,
     "metadata": {},
     "output_type": "execute_result"
    }
   ],
   "source": [
    "rnd_search_cv.best_estimator_"
   ]
  },
  {
   "cell_type": "code",
   "execution_count": 13,
   "id": "db018419",
   "metadata": {},
   "outputs": [
    {
     "data": {
      "text/plain": [
       "0.8229756702810596"
      ]
     },
     "execution_count": 13,
     "metadata": {},
     "output_type": "execute_result"
    }
   ],
   "source": [
    "rnd_search_cv.best_score_"
   ]
  },
  {
   "cell_type": "markdown",
   "id": "f7439381",
   "metadata": {},
   "source": [
    "This looks pretty low but remember we only trained the model on 1,000 instances. Let's retrain the best estimator on the whole training set:\n",
    "\n",
    "Warning: the following cell may take hours to run, depending on your hardware."
   ]
  },
  {
   "cell_type": "code",
   "execution_count": 14,
   "id": "33b0da23",
   "metadata": {},
   "outputs": [
    {
     "data": {
      "text/plain": [
       "SVC(C=10.681547960095235, gamma=0.0028158224555557415)"
      ]
     },
     "execution_count": 14,
     "metadata": {},
     "output_type": "execute_result"
    }
   ],
   "source": [
    "rnd_search_cv.best_estimator_.fit(X_train_scaled, y_train)"
   ]
  },
  {
   "cell_type": "code",
   "execution_count": 15,
   "id": "054012fe",
   "metadata": {},
   "outputs": [
    {
     "data": {
      "text/plain": [
       "0.9999666666666667"
      ]
     },
     "execution_count": 15,
     "metadata": {},
     "output_type": "execute_result"
    }
   ],
   "source": [
    "y_pred = rnd_search_cv.best_estimator_.predict(X_train_scaled)\n",
    "accuracy_score(y_train, y_pred)"
   ]
  },
  {
   "cell_type": "markdown",
   "id": "caeb87fd",
   "metadata": {},
   "source": [
    "Ah, this looks good! Let's select this model. Now we can test it on the test set:"
   ]
  },
  {
   "cell_type": "code",
   "execution_count": 16,
   "id": "41c9bcb4",
   "metadata": {},
   "outputs": [
    {
     "data": {
      "text/plain": [
       "0.9664"
      ]
     },
     "execution_count": 16,
     "metadata": {},
     "output_type": "execute_result"
    }
   ],
   "source": [
    "y_pred = rnd_search_cv.best_estimator_.predict(X_test_scaled)\n",
    "accuracy_score(y_test, y_pred)"
   ]
  },
  {
   "cell_type": "markdown",
   "id": "b8e76e44",
   "metadata": {},
   "source": [
    "Not too bad, but apparently the model is overfitting slightly. It's tempting to tweak the hyperparameters a bit more (e.g. decreasing C and/or gamma), but we would run the risk of overfitting the test set. Other people have found that the hyperparameters C=5 and gamma=0.005 yield even better performance (over 98% accuracy). By running the randomized search for longer and on a larger part of the training set, you may be able to find this as well."
   ]
  },
  {
   "cell_type": "markdown",
   "id": "18173134",
   "metadata": {},
   "source": [
    "## 10. On the California housing dataset, train an SVM regressor."
   ]
  },
  {
   "cell_type": "code",
   "execution_count": 17,
   "id": "27ec2470",
   "metadata": {},
   "outputs": [],
   "source": [
    "from sklearn.datasets import fetch_california_housing\n",
    "\n",
    "housing = fetch_california_housing()\n",
    "X = housing[\"data\"]\n",
    "y = housing[\"target\"]"
   ]
  },
  {
   "cell_type": "markdown",
   "id": "eb02f870",
   "metadata": {},
   "source": [
    "Split it into a training set and a test set:"
   ]
  },
  {
   "cell_type": "code",
   "execution_count": 18,
   "id": "9059bc1e",
   "metadata": {},
   "outputs": [],
   "source": [
    "from sklearn.model_selection import train_test_split\n",
    "\n",
    "X_train, X_test, y_train, y_test = train_test_split(X, y, test_size=0.2, random_state=42)"
   ]
  },
  {
   "cell_type": "markdown",
   "id": "73f24e85",
   "metadata": {},
   "source": [
    "Don't forget to scale the data:"
   ]
  },
  {
   "cell_type": "code",
   "execution_count": 19,
   "id": "a670e7a6",
   "metadata": {},
   "outputs": [],
   "source": [
    "from sklearn.preprocessing import StandardScaler\n",
    "\n",
    "scaler = StandardScaler()\n",
    "X_train_scaled = scaler.fit_transform(X_train)\n",
    "X_test_scaled = scaler.transform(X_test)"
   ]
  },
  {
   "cell_type": "markdown",
   "id": "ec4bf254",
   "metadata": {},
   "source": [
    "Let's train a simple LinearSVR first:"
   ]
  },
  {
   "cell_type": "code",
   "execution_count": 20,
   "id": "6483d01d",
   "metadata": {},
   "outputs": [
    {
     "name": "stderr",
     "output_type": "stream",
     "text": [
      "C:\\Users\\amitp\\anaconda3\\lib\\site-packages\\sklearn\\svm\\_base.py:1206: ConvergenceWarning: Liblinear failed to converge, increase the number of iterations.\n",
      "  warnings.warn(\n"
     ]
    },
    {
     "data": {
      "text/plain": [
       "LinearSVR(random_state=42)"
      ]
     },
     "execution_count": 20,
     "metadata": {},
     "output_type": "execute_result"
    }
   ],
   "source": [
    "from sklearn.svm import LinearSVR\n",
    "\n",
    "lin_svr = LinearSVR(random_state=42)\n",
    "lin_svr.fit(X_train_scaled, y_train)"
   ]
  },
  {
   "cell_type": "markdown",
   "id": "6f5c5ade",
   "metadata": {},
   "source": [
    "Let's see how it performs on the training set:"
   ]
  },
  {
   "cell_type": "code",
   "execution_count": 21,
   "id": "56d8985d",
   "metadata": {},
   "outputs": [
    {
     "data": {
      "text/plain": [
       "0.9641780189948642"
      ]
     },
     "execution_count": 21,
     "metadata": {},
     "output_type": "execute_result"
    }
   ],
   "source": [
    "from sklearn.metrics import mean_squared_error\n",
    "\n",
    "y_pred = lin_svr.predict(X_train_scaled)\n",
    "mse = mean_squared_error(y_train, y_pred)\n",
    "mse"
   ]
  },
  {
   "cell_type": "code",
   "execution_count": 22,
   "id": "ed535613",
   "metadata": {},
   "outputs": [
    {
     "data": {
      "text/plain": [
       "0.9819256687727764"
      ]
     },
     "execution_count": 22,
     "metadata": {},
     "output_type": "execute_result"
    }
   ],
   "source": [
    "\n",
    "np.sqrt(mse)"
   ]
  },
  {
   "cell_type": "markdown",
   "id": "2e980a61",
   "metadata": {},
   "source": [
    "In this training set, the targets are tens of thousands of dollars. The RMSE gives a rough idea of the kind of error you should expect (with a higher weight for large errors): so with this model we can expect errors somewhere around $10,000. Not great. Let's see if we can do better with an RBF Kernel. We will use randomized search with cross validation to find the appropriate hyperparameter values for C and gamma:"
   ]
  },
  {
   "cell_type": "code",
   "execution_count": 23,
   "id": "8bc35650",
   "metadata": {},
   "outputs": [
    {
     "name": "stdout",
     "output_type": "stream",
     "text": [
      "Fitting 3 folds for each of 10 candidates, totalling 30 fits\n",
      "[CV] END .....C=4.745401188473625, gamma=0.07969454818643928; total time=   9.6s\n",
      "[CV] END .....C=4.745401188473625, gamma=0.07969454818643928; total time=   9.2s\n",
      "[CV] END .....C=4.745401188473625, gamma=0.07969454818643928; total time=   9.0s\n",
      "[CV] END .....C=8.31993941811405, gamma=0.015751320499779724; total time=   8.6s\n",
      "[CV] END .....C=8.31993941811405, gamma=0.015751320499779724; total time=   8.8s\n",
      "[CV] END .....C=8.31993941811405, gamma=0.015751320499779724; total time=   8.9s\n",
      "[CV] END ....C=2.560186404424365, gamma=0.002051110418843397; total time=   8.6s\n",
      "[CV] END ....C=2.560186404424365, gamma=0.002051110418843397; total time=   8.7s\n",
      "[CV] END ....C=2.560186404424365, gamma=0.002051110418843397; total time=   8.9s\n",
      "[CV] END ....C=1.5808361216819946, gamma=0.05399484409787431; total time=   8.2s\n",
      "[CV] END ....C=1.5808361216819946, gamma=0.05399484409787431; total time=   8.2s\n",
      "[CV] END ....C=1.5808361216819946, gamma=0.05399484409787431; total time=   8.2s\n",
      "[CV] END ....C=7.011150117432088, gamma=0.026070247583707663; total time=   8.6s\n",
      "[CV] END ....C=7.011150117432088, gamma=0.026070247583707663; total time=   8.7s\n",
      "[CV] END ....C=7.011150117432088, gamma=0.026070247583707663; total time=   8.9s\n",
      "[CV] END .....C=1.2058449429580245, gamma=0.0870602087830485; total time=   8.3s\n",
      "[CV] END .....C=1.2058449429580245, gamma=0.0870602087830485; total time=   8.2s\n",
      "[CV] END .....C=1.2058449429580245, gamma=0.0870602087830485; total time=   8.2s\n",
      "[CV] END ...C=9.324426408004218, gamma=0.0026587543983272693; total time=   8.6s\n",
      "[CV] END ...C=9.324426408004218, gamma=0.0026587543983272693; total time=   8.6s\n",
      "[CV] END ...C=9.324426408004218, gamma=0.0026587543983272693; total time=   8.7s\n",
      "[CV] END ...C=2.818249672071006, gamma=0.0023270677083837795; total time=   8.7s\n",
      "[CV] END ...C=2.818249672071006, gamma=0.0023270677083837795; total time=   8.7s\n",
      "[CV] END ...C=2.818249672071006, gamma=0.0023270677083837795; total time=   8.6s\n",
      "[CV] END ....C=4.042422429595377, gamma=0.011207606211860567; total time=   8.4s\n",
      "[CV] END ....C=4.042422429595377, gamma=0.011207606211860567; total time=   8.6s\n",
      "[CV] END ....C=4.042422429595377, gamma=0.011207606211860567; total time=   8.6s\n",
      "[CV] END ....C=5.319450186421157, gamma=0.003823475224675185; total time=   8.7s\n",
      "[CV] END ....C=5.319450186421157, gamma=0.003823475224675185; total time=   8.7s\n",
      "[CV] END ....C=5.319450186421157, gamma=0.003823475224675185; total time=   8.8s\n"
     ]
    },
    {
     "data": {
      "text/plain": [
       "RandomizedSearchCV(cv=3, estimator=SVR(),\n",
       "                   param_distributions={'C': <scipy.stats._distn_infrastructure.rv_frozen object at 0x000001EB91C33370>,\n",
       "                                        'gamma': <scipy.stats._distn_infrastructure.rv_frozen object at 0x000001EB91C04460>},\n",
       "                   random_state=42, verbose=2)"
      ]
     },
     "execution_count": 23,
     "metadata": {},
     "output_type": "execute_result"
    }
   ],
   "source": [
    "from sklearn.svm import SVR\n",
    "from sklearn.model_selection import RandomizedSearchCV\n",
    "from scipy.stats import reciprocal, uniform\n",
    "\n",
    "param_distributions = {\"gamma\": reciprocal(0.001, 0.1), \"C\": uniform(1, 10)}\n",
    "rnd_search_cv = RandomizedSearchCV(SVR(), param_distributions, n_iter=10, verbose=2, cv=3, random_state=42)\n",
    "rnd_search_cv.fit(X_train_scaled, y_train)"
   ]
  },
  {
   "cell_type": "code",
   "execution_count": 24,
   "id": "cd212db4",
   "metadata": {},
   "outputs": [
    {
     "data": {
      "text/plain": [
       "SVR(C=4.745401188473625, gamma=0.07969454818643928)"
      ]
     },
     "execution_count": 24,
     "metadata": {},
     "output_type": "execute_result"
    }
   ],
   "source": [
    "\n",
    "rnd_search_cv.best_estimator_"
   ]
  },
  {
   "cell_type": "markdown",
   "id": "c07e7075",
   "metadata": {},
   "source": [
    "Now let's measure the RMSE on the training set:"
   ]
  },
  {
   "cell_type": "code",
   "execution_count": 25,
   "id": "df4866de",
   "metadata": {},
   "outputs": [
    {
     "data": {
      "text/plain": [
       "0.5727524770785369"
      ]
     },
     "execution_count": 25,
     "metadata": {},
     "output_type": "execute_result"
    }
   ],
   "source": [
    "y_pred = rnd_search_cv.best_estimator_.predict(X_train_scaled)\n",
    "mse = mean_squared_error(y_train, y_pred)\n",
    "np.sqrt(mse)"
   ]
  },
  {
   "cell_type": "markdown",
   "id": "74336b85",
   "metadata": {},
   "source": [
    "Looks much better than the linear model. Let's select this model and evaluate it on the test set:"
   ]
  },
  {
   "cell_type": "code",
   "execution_count": 26,
   "id": "e226f7e9",
   "metadata": {},
   "outputs": [
    {
     "data": {
      "text/plain": [
       "0.5929168385528745"
      ]
     },
     "execution_count": 26,
     "metadata": {},
     "output_type": "execute_result"
    }
   ],
   "source": [
    "y_pred = rnd_search_cv.best_estimator_.predict(X_test_scaled)\n",
    "mse = mean_squared_error(y_test, y_pred)\n",
    "np.sqrt(mse)"
   ]
  },
  {
   "cell_type": "code",
   "execution_count": null,
   "id": "b23b2e64",
   "metadata": {},
   "outputs": [],
   "source": []
  }
 ],
 "metadata": {
  "kernelspec": {
   "display_name": "Python 3 (ipykernel)",
   "language": "python",
   "name": "python3"
  },
  "language_info": {
   "codemirror_mode": {
    "name": "ipython",
    "version": 3
   },
   "file_extension": ".py",
   "mimetype": "text/x-python",
   "name": "python",
   "nbconvert_exporter": "python",
   "pygments_lexer": "ipython3",
   "version": "3.9.7"
  }
 },
 "nbformat": 4,
 "nbformat_minor": 5
}
