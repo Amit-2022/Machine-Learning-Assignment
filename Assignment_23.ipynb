{
 "cells": [
  {
   "cell_type": "markdown",
   "id": "f1c8129e",
   "metadata": {},
   "source": [
    "## 1. What are the key reasons for reducing the dimensionality of a dataset? What are the major disadvantages?"
   ]
  },
  {
   "cell_type": "markdown",
   "id": "949f4e39",
   "metadata": {},
   "source": [
    "In machine learning classification problems, there are often too many factors on the basis of which the final classification is done. These factors are basically variables called features. The higher the number of features, the harder it gets to visualize the training set and then work on it. Sometimes, most of these features are correlated, and hence redundant. This is where dimensionality reduction algorithms come into play. Dimensionality reduction is the process of reducing the number of random variables under consideration, by obtaining a set of principal variables. It can be divided into feature selection and feature extraction. Basically, it may lead to some amount of data loss. Although, PCA(Principal Component Analysis) tends to find linear correlations between variables, which is sometimes undesirable. Also, PCA fails in cases where mean and covariance are not enough to define datasets. Further, we may not know how many principal components to keep- in practice, some thumb rules are applied."
   ]
  },
  {
   "cell_type": "markdown",
   "id": "13d5bbd5",
   "metadata": {},
   "source": [
    "## 2. What is the dimensionality curse?"
   ]
  },
  {
   "cell_type": "markdown",
   "id": "a7574406",
   "metadata": {},
   "source": [
    "The curse of dimensionality basically means that the error increases with the increase in the number of features. It refers to the fact that algorithms are harder to design in high dimensions and often have a running time exponential in the dimensions. A higher number of dimensions theoretically allow more information to be stored, but practically it rarely helps due to the higher possibility of noise and redundancy in the real-world data."
   ]
  },
  {
   "cell_type": "markdown",
   "id": "b8d88a17",
   "metadata": {},
   "source": [
    "## 3. Tell if its possible to reverse the process of reducing the dimensionality of a dataset? If so, how can you go about doing it? If not, what is the reason?"
   ]
  },
  {
   "cell_type": "markdown",
   "id": "80ac7aa9",
   "metadata": {},
   "source": [
    "Once a dataset's dimensionality has been reduced using one of the algorithms we discussed, it is almost always impossible to perfectly reverse the operation, because some information gets lost during dimensionality reduction.Moreover, while some algorithms (such as PCA) have a simple reverse transformation procedure that can reconstruct a dataset relatively similar to the original, other algorithms (such as T-SNE) do not Dimensionality reduction (compression of information) is reversible in auto-encoders. Auto-encoder is regular neural network with bottleneck layer in the middle. You have for instance 20 inputs in the first layer, 10 neurons in the middle layer and again 20 neurons in the last layer. When you train such network you force it to compress information to 10 neurons and then uncompress again minimizing error in the last layer(desired output vector equals input vector). When you use well known Back-propagation algorithm to train such network it performs PCA - Principal Component Analysis. PCA returns uncorrelated features. By using more sophisticated algorithm to train auto-encoder you can make it perform nonlinear ICA - Independent Component Analysis. ICA returns statistically independent features. This training algorithm searches for low complexity neural networks with high generalization capability. As a byproduct of regularization you get ICA."
   ]
  },
  {
   "cell_type": "markdown",
   "id": "d71ccf91",
   "metadata": {},
   "source": [
    "## 4. Can PCA be utilized to reduce the dimensionality of a nonlinear dataset with a lot of variables?"
   ]
  },
  {
   "cell_type": "markdown",
   "id": "939d4c36",
   "metadata": {},
   "source": [
    "PCA can at least get rid of useless dimensions, which will significantly reduce the demensionality of most datasets. However, reducing demensionality of datasets without useless dimensions will loose too much info. \"You want to unroll the swiss roll, not squash it\" OF course, you can still do a PCA computation on nonlinear data - but the results will be meaningless, beyond decomposing to the dominant linear modes and provided a global linear representation of the spread of the data."
   ]
  },
  {
   "cell_type": "markdown",
   "id": "d619db70",
   "metadata": {},
   "source": [
    "## 5. Assume you're running PCA on a 1,000-dimensional dataset with a 95 percent explained variance ratio. What is the number of dimensions that the resulting dataset would have?"
   ]
  },
  {
   "cell_type": "markdown",
   "id": "4b96b3af",
   "metadata": {},
   "source": [
    "We use Explained Variance Ratio as a metric to evaluate the usefulness of your principal components and to choose how many components to use in your model. The explained variance ratio is the percentage of variance that is attributed by each of the selected components. Ideally, you would choose the number of components to include in your model by adding the explained variance ratio of each component until you reach a total of around 0.8 or 80% to avoid overfitting.\n",
    "\n",
    "The number of dimensions will be 1000-1=999"
   ]
  },
  {
   "cell_type": "markdown",
   "id": "f1917c07",
   "metadata": {},
   "source": [
    "## 6. Will you use vanilla PCA, incremental PCA, randomized PCA, or kernel PCA in which situations?"
   ]
  },
  {
   "cell_type": "markdown",
   "id": "d3a7686e",
   "metadata": {},
   "source": [
    "1. Vanilla: works only if the dataset fits in memory\n",
    "2. Incremental: useful for large datasets that don't fit in memory, but is slower than regular. Also useful\n",
    "        for online tasks, when you apply PCA on the fly\n",
    "3. Randomized: useful when you want to considerably reduce dimensionality and the dataset fits in memory\n",
    "4. Kernel: Useful for nonlinear datasets"
   ]
  },
  {
   "cell_type": "markdown",
   "id": "f0d7236e",
   "metadata": {},
   "source": [
    "## 7. How do you assess a dimensionality reduction algorithm's success on your dataset?"
   ]
  },
  {
   "cell_type": "markdown",
   "id": "9316257d",
   "metadata": {},
   "source": [
    "Intuitively, a dimensionality reduction algorithm performs well if it eliminates a lot of dimensions from the dataset without losing too much information. One way to measure this is to apply the reverse transformation and measure the reconstruction error. However, not all dimensionality reduction algorithms provide a reverse transformation. Alternatively, if you are using dimensionality reduction as a preprocessing step before another Machine Learning algorithm (e.g., a Random Forest classifier), then you can simply measure the performance of that second algorithm; if dimensionality reduction did not lose too much information, then the algorithm should perform just as well as when using the original dataset."
   ]
  },
  {
   "cell_type": "markdown",
   "id": "7892cd5a",
   "metadata": {},
   "source": [
    "## 8. Is it logical to use two different dimensionality reduction algorithms in a chain?"
   ]
  },
  {
   "cell_type": "markdown",
   "id": "68a5be40",
   "metadata": {},
   "source": [
    "You can chain two different algorithms, such as PCA to quickly get rid of unnecessary data and then LLE(Locall Linear Embedded) that works slower. This will likely yield the same performance, but with faster results."
   ]
  },
  {
   "cell_type": "code",
   "execution_count": null,
   "id": "2431f2a7",
   "metadata": {},
   "outputs": [],
   "source": []
  }
 ],
 "metadata": {
  "kernelspec": {
   "display_name": "Python 3 (ipykernel)",
   "language": "python",
   "name": "python3"
  },
  "language_info": {
   "codemirror_mode": {
    "name": "ipython",
    "version": 3
   },
   "file_extension": ".py",
   "mimetype": "text/x-python",
   "name": "python",
   "nbconvert_exporter": "python",
   "pygments_lexer": "ipython3",
   "version": "3.9.7"
  }
 },
 "nbformat": 4,
 "nbformat_minor": 5
}
