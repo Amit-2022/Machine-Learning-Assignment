{
 "cells": [
  {
   "cell_type": "markdown",
   "id": "62c839ec",
   "metadata": {},
   "source": [
    "### 1. What are the key tasks involved in getting ready to work with machine learning modeling?"
   ]
  },
  {
   "cell_type": "markdown",
   "id": "6cb2ba30",
   "metadata": {},
   "source": [
    "First is to define a problem statement that we wish to solve using machine learning.\n",
    "\n",
    "Second is to collect data for our machine learning problem statement.\n",
    "\n",
    "Third is to tabulate that data.\n",
    "\n",
    "Fourth is to clean the data. Cleaning the data may include imputing missing values, removing outliers, standardizing the keywords or headers, conversions to proper datatypes etc.\n",
    "\n",
    "Fifth step would be to perform an exploratory data analysis to find the key details that would later help in our modeling.\n",
    "\n",
    "Last step before machine learning modelling can begin would be to standardize data and split the cleaned data into training and test data."
   ]
  },
  {
   "cell_type": "markdown",
   "id": "bfda1068",
   "metadata": {},
   "source": [
    "### 2. What are the different forms of data used in machine learning? Give a specific example for each of them."
   ]
  },
  {
   "cell_type": "markdown",
   "id": "6d4f4bd6",
   "metadata": {},
   "source": [
    "Qualitative data - One that does not necessarily have an order to it and is categorical in nature. For example, in IRIS dataset, the qualitative data would be the variety having class labels or categories Virginicolor, Setosa and Versicolor\n",
    "\n",
    "Quantitative data - One that has an order to it and is numerical in nature. For example, Petal length in IRIS dataset is a quantitative data.\n",
    "\n",
    "Time series data - Time series data is one that has time based data. For example, Any covid-19 based data will have date time against infections, death etc. because time plays an important role in Covid analysis in finding the spread rate etc.\n",
    "\n",
    "Text based data - String based data that are generally remarks, comments or reviews, used for Natural Language Processing."
   ]
  },
  {
   "cell_type": "markdown",
   "id": "068dedfe",
   "metadata": {},
   "source": [
    "### 3. Distinguish:\n",
    "\n",
    "   ###        1. Numeric vs. categorical attributes\n",
    "\n",
    "   ###         2. Feature selection vs. dimensionality reduction\n"
   ]
  },
  {
   "cell_type": "markdown",
   "id": "3334e4b4",
   "metadata": {},
   "source": [
    "### 1. Numeric vs. categorical attributes\n",
    "Numerical attributes are those data types that are numerical in nature. More importantly, they have an order to themselves, are mathematical and can be of integer or float datatype\n",
    "\n",
    "Categorical attributes are those data types that provide characteristics of something. It can be numeric but without any order or mathematical meaning to it."
   ]
  },
  {
   "cell_type": "markdown",
   "id": "80df14d3",
   "metadata": {},
   "source": [
    "### 2. Feature selection vs. dimensionality reduction\n",
    "Feature selection is a technique using which, the most important of features or those features that bring most information with them to machine learning modeling process in predicting or clustering are included and the rest are removed\n",
    "\n",
    "Dimensionality reduction is a process by which the explanatory features are transformed and elevated to a lower dimension. It is also the process by which the irrelevant features are removed. Several machine learning algorithms are highly negatively affected by high dimensionality, due to which this process becomes very important."
   ]
  },
  {
   "cell_type": "markdown",
   "id": "bfa7ab56",
   "metadata": {},
   "source": [
    "### 4. Make quick notes on any two of the following:\n",
    "\n",
    "            1. The histogram\n",
    "\n",
    "             2. Use a scatter plot\n",
    "\n",
    "              3.PCA (Personal Computer Aid)\n"
   ]
  },
  {
   "cell_type": "markdown",
   "id": "0a38198d",
   "metadata": {},
   "source": [
    "### 4.1. The histogram\n",
    "Histograms are graphs used to visualize continous and discrete quantitative variables and distribution of data. Histogram requires bin size to make changes in granularity.\n",
    "\n",
    "### 4.2. Use a scatter plot\n",
    "Scatter plots are used to plot 2-D or 3-D plots using 2 or 3 variables of data points. They are important in visually finding trends in data with low dimensionality."
   ]
  },
  {
   "cell_type": "markdown",
   "id": "a20283be",
   "metadata": {},
   "source": [
    "### 4.3 PCA (Personal Computer Aid)\n",
    "\n",
    "Principal component analysis, or PCA, is a statistical procedure that allows you to summarize the information content in large data tables by means of a smaller set of “summary indices” that can be more easily visualized and analyzed. "
   ]
  },
  {
   "cell_type": "markdown",
   "id": "4e8f8923",
   "metadata": {},
   "source": [
    "### 5. Why is it necessary to investigate data? Is there a discrepancy in how qualitative and quantitative data are explored?"
   ]
  },
  {
   "cell_type": "markdown",
   "id": "99cfe834",
   "metadata": {},
   "source": [
    "Investigation of data is important to find trends, note interesting points, find errors and missing values and outliers that may require remedy. Quantitative data exploration requires numbers recieved from observation and experiment. Qualitative data exploration is different as most of it hinges on frequency table to formulate observations."
   ]
  },
  {
   "cell_type": "markdown",
   "id": "2a93d5ca",
   "metadata": {},
   "source": [
    "### 6. What are the various histogram shapes? What exactly are ‘bins'?"
   ]
  },
  {
   "cell_type": "markdown",
   "id": "3325c37e",
   "metadata": {},
   "source": [
    "Histogram shapes can be left skewed, right skewed, approximately normal, approximately uniform, bimodal and more. Bins are classes in which several qualitative values are clubbed together based on required granularity along with their corresponding frequencies"
   ]
  },
  {
   "cell_type": "markdown",
   "id": "5da28f95",
   "metadata": {},
   "source": [
    "### 7. How do we deal with data outliers?"
   ]
  },
  {
   "cell_type": "markdown",
   "id": "36b60343",
   "metadata": {},
   "source": [
    "Outliers can be removed along with the entire data point if they are in low numbers and their removal does not result in heavy reductions of data. Else, outliers can be replaced with imputed values if highly extreme and low in numbers against a high dimensional data.\n",
    "\n",
    "Outliers might also be bringing some meaning in the data in case of skewed distributions. In that case, outliers must be kept."
   ]
  },
  {
   "cell_type": "markdown",
   "id": "e2bfe3d1",
   "metadata": {},
   "source": [
    "### 8. What are the various central inclination measures? Why does mean vary too much from median in certain data sets?"
   ]
  },
  {
   "cell_type": "markdown",
   "id": "f6aa4d36",
   "metadata": {},
   "source": [
    "Central tendency measures are of primarily 2 types\n",
    "\n",
    "numeric averages - Arithmetic mean, geometric mean, harmonic mean\n",
    "\n",
    "and positional averages - median and mode\n",
    "\n",
    "Mean can vary too much from median if the data has extremities or outliers."
   ]
  },
  {
   "cell_type": "markdown",
   "id": "0cfc63a6",
   "metadata": {},
   "source": [
    "### 9. Describe how a scatter plot can be used to investigate bivariate relationships. Is it possible to find outliers using a scatter plot?\n"
   ]
  },
  {
   "cell_type": "markdown",
   "id": "4e7c9d7d",
   "metadata": {},
   "source": [
    "Scatterplots can be a great way to find linear relationships between two variables having highly positive or negative correlation coefficient as most of the data points would be in a straight line. Other non linear relationships like quadratic or trigonometric relations can also be approximated and identified visually between two variables. Outliers can also be found using scatter plots."
   ]
  },
  {
   "cell_type": "markdown",
   "id": "05962b6c",
   "metadata": {},
   "source": [
    "### 10. Describe how cross-tabs can be used to figure out how two variables are related."
   ]
  },
  {
   "cell_type": "markdown",
   "id": "52fd1db0",
   "metadata": {},
   "source": [
    "Cross tabs or cross tabulation are only used to find relations between two categorical variables where one categorical variable value would be giving row data and the other variable would give column data. Several tests like the chi square test can help find relations based on the cross tab."
   ]
  },
  {
   "cell_type": "code",
   "execution_count": null,
   "id": "1734d4c5",
   "metadata": {},
   "outputs": [],
   "source": []
  }
 ],
 "metadata": {
  "kernelspec": {
   "display_name": "Python 3 (ipykernel)",
   "language": "python",
   "name": "python3"
  },
  "language_info": {
   "codemirror_mode": {
    "name": "ipython",
    "version": 3
   },
   "file_extension": ".py",
   "mimetype": "text/x-python",
   "name": "python",
   "nbconvert_exporter": "python",
   "pygments_lexer": "ipython3",
   "version": "3.9.7"
  }
 },
 "nbformat": 4,
 "nbformat_minor": 5
}
