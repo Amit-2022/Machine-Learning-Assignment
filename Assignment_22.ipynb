{
 "cells": [
  {
   "cell_type": "markdown",
   "id": "0fc07040",
   "metadata": {},
   "source": [
    "## 1. Is there any way to combine five different models that have all been trained on the same training data and have all achieved 95 percent precision? If so, how can you go about doing it? If not, what is the reason?"
   ]
  },
  {
   "cell_type": "markdown",
   "id": "48f155e3",
   "metadata": {},
   "source": [
    "try combining them into a voting ensemble, which will often give you even better results. It works better if the models are very different"
   ]
  },
  {
   "cell_type": "markdown",
   "id": "410ab458",
   "metadata": {},
   "source": [
    "## 2. What's the difference between hard voting classifiers and soft voting classifiers?"
   ]
  },
  {
   "cell_type": "markdown",
   "id": "a91e8f33",
   "metadata": {},
   "source": [
    "In hard voting (also known as majority voting), every individual classifier votes for a class, and the majority wins. In statistical terms, the predicted target label of the ensemble is the mode of the distribution of individually predicted labels. In soft voting, every individual classifier provides a probability value that a specific data point belongs to a particular target class. The predictions are weighted by the classifier's importance and summed up. Then the target label with the greatest sum of weighted probabilities wins the vote."
   ]
  },
  {
   "cell_type": "markdown",
   "id": "0bd7327d",
   "metadata": {},
   "source": [
    "## 3. Is it possible to distribute a bagging ensemble's training through several servers to speed up the process? Pasting ensembles, boosting ensembles, Random Forests, and stacking ensembles are all options."
   ]
  },
  {
   "cell_type": "markdown",
   "id": "cb46b976",
   "metadata": {},
   "source": [
    "It is quite possible to speed up training of a bagging ensemble, pasting ensembles and Random Forests by distributing it across multiple servers, since each predictor in the ensemble is independent of the others."
   ]
  },
  {
   "cell_type": "markdown",
   "id": "e36909f9",
   "metadata": {},
   "source": [
    "## 4. What is the advantage of evaluating out of the bag?"
   ]
  },
  {
   "cell_type": "markdown",
   "id": "e0f1a505",
   "metadata": {},
   "source": [
    "sol. the advantage of evaluating out of bag are that the model is never trained on the that data so it is used for evaluating the accuracy of the model. so,we do not need of cross validation and can use out of bag instance for that purpose."
   ]
  },
  {
   "cell_type": "markdown",
   "id": "f44a35d5",
   "metadata": {},
   "source": [
    "## 5. What distinguishes Extra-Trees from ordinary Random Forests? What good would this extra randomness do? Is it true that Extra-Tree Random Forests are slower or faster than normal Random Forests?"
   ]
  },
  {
   "cell_type": "markdown",
   "id": "9ae1f3f9",
   "metadata": {},
   "source": [
    "Random Forest chooses the optimum split while Extra Trees chooses it randomly. However, once the split points are selected, the two algorithms choose the best one between all the subset of features. Therefore, Extra Trees adds randomization but still has optimization."
   ]
  },
  {
   "cell_type": "markdown",
   "id": "6a916e2f",
   "metadata": {},
   "source": [
    "## 6. Which hyperparameters and how do you tweak if your AdaBoost ensemble underfits the training data?"
   ]
  },
  {
   "cell_type": "markdown",
   "id": "b7da5421",
   "metadata": {},
   "source": [
    "sol. try increasing the number of estimators or reducing the regularization hyperparameters of the base estimator, also try slightly increasing the learning rate."
   ]
  },
  {
   "cell_type": "markdown",
   "id": "8e6a00c6",
   "metadata": {},
   "source": [
    "## 7. Should you raise or decrease the learning rate if your Gradient Boosting ensemble overfits the training set?"
   ]
  },
  {
   "cell_type": "code",
   "execution_count": null,
   "id": "4a841540",
   "metadata": {},
   "outputs": [],
   "source": [
    "sol. decreasing the learning rate, early stopping to find the right number of predictors"
   ]
  }
 ],
 "metadata": {
  "kernelspec": {
   "display_name": "Python 3 (ipykernel)",
   "language": "python",
   "name": "python3"
  },
  "language_info": {
   "codemirror_mode": {
    "name": "ipython",
    "version": 3
   },
   "file_extension": ".py",
   "mimetype": "text/x-python",
   "name": "python",
   "nbconvert_exporter": "python",
   "pygments_lexer": "ipython3",
   "version": "3.9.7"
  }
 },
 "nbformat": 4,
 "nbformat_minor": 5
}
