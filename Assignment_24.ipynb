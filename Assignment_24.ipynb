{
 "cells": [
  {
   "cell_type": "markdown",
   "id": "a47efe93",
   "metadata": {},
   "source": [
    "## 1. What is your definition of clustering? What are a few clustering algorithms you might think of?"
   ]
  },
  {
   "cell_type": "markdown",
   "id": "c64a72fd",
   "metadata": {},
   "source": [
    "clustering is a unsupervised approach. it is a method of identifing similar object and kipping them together.clustering is find a structute or pattern in a collection of unlabled data.\n",
    "\n",
    "the goal of clustering is to determine the intrensic groups of unlabled data.\n",
    "\n",
    "few algorithms of clusterings are:\n",
    "\n",
    "    1. k-mean clustering\n",
    "    2. herirachical clustering\n",
    "    3. DBSCAN "
   ]
  },
  {
   "cell_type": "markdown",
   "id": "83c282d5",
   "metadata": {},
   "source": [
    "## 2. What are some of the most popular clustering algorithm applications?"
   ]
  },
  {
   "cell_type": "markdown",
   "id": "e3610a4a",
   "metadata": {},
   "source": [
    "SOL. application of clustering algorithm are:-\n",
    "\n",
    "    1. for customer segment \n",
    "    2. for data analysis\n",
    "    3. As a dimensionality reduction technique\n",
    "    4. for anamoly detection\n",
    "    5. to segment an image\n"
   ]
  },
  {
   "cell_type": "markdown",
   "id": "52782f1f",
   "metadata": {},
   "source": [
    "## 3. When using K-Means, describe two strategies for selecting the appropriate number of clusters."
   ]
  },
  {
   "cell_type": "markdown",
   "id": "66c41add",
   "metadata": {},
   "source": [
    "sol. the k-mean is a clusterring approach in which a data is grouped into k-distinct non-overlapping cluster based on the distance from the k-centre. the value of k is specified first then algorithm assign the point to exactly one cluster.\n",
    "\n",
    "the optimum value of k is obtained by using the elbow method(wcc or inertia)."
   ]
  },
  {
   "cell_type": "markdown",
   "id": "eac2e096",
   "metadata": {},
   "source": [
    "## 4. What is mark propagation and how does it work? Why would you do it, and how would you do it?"
   ]
  },
  {
   "cell_type": "markdown",
   "id": "17502918",
   "metadata": {},
   "source": [
    "Backward Propagation is the preferable method of adjusting or correcting the weights to reach the minimized loss function. In this article, we shall explore this second technique of Backward Propagation in detail by understanding how it works mathematically, why it is the preferred method."
   ]
  },
  {
   "cell_type": "markdown",
   "id": "d95e0335",
   "metadata": {},
   "source": [
    "## 5. Provide two examples of clustering algorithms that can handle large datasets. And two that look for high-density areas?"
   ]
  },
  {
   "cell_type": "markdown",
   "id": "64d6c07a",
   "metadata": {},
   "source": [
    "sol. two examples of clustering algorithms that can handle large datasets are.\n",
    "\n",
    "1. Identifying fraudulent or criminal activity.\n",
    "2. Classifying network traffic"
   ]
  },
  {
   "cell_type": "markdown",
   "id": "15de9d68",
   "metadata": {},
   "source": [
    "## 6. Can you think of a scenario in which constructive learning will be advantageous? How can you go about putting it into action?"
   ]
  },
  {
   "cell_type": "markdown",
   "id": "39e1b38f",
   "metadata": {},
   "source": [
    "In Constructivist learning, the traditional classroom learning procedure is flipped. Instead of a teacher informing a child about a subject and constructing a meaning for them, in constructivist learning, children construct their own meanings. Now, this may not be the best approach for every learning environment, but it can be tremendously helpful at home. The home environment is where children primarily develop a sense of self and is the perfect setting for children to practice taking initiative in their learning via a Constructivist approach."
   ]
  },
  {
   "cell_type": "markdown",
   "id": "683eae90",
   "metadata": {},
   "source": [
    "## 7. How do you tell the difference between anomaly and novelty detection?"
   ]
  },
  {
   "cell_type": "markdown",
   "id": "23a69d02",
   "metadata": {},
   "source": [
    "anamoly detection is similar to the novelty detection but not completely similar. the novelty detection is mainly concerned to identify the unabsorbed pattern in the obsrvation."
   ]
  },
  {
   "cell_type": "markdown",
   "id": "a49215b3",
   "metadata": {},
   "source": [
    "## 8. What is a Gaussian mixture, and how does it work? What are some of the things you can do about it?"
   ]
  },
  {
   "cell_type": "markdown",
   "id": "0e33d9ab",
   "metadata": {},
   "source": [
    "A Gaussian mixture model is a probabilistic model that assumes all the data points are generated from a mixture of a finite number of Gaussian distributions with unknown parameters. Gaussian Mixture models are used for representing Normally Distributed subpopulations within an overall population. The advantage of Mixture models is that they do not require which subpopulation a data point belongs to. It allows the model to learn the subpopulations automatically."
   ]
  },
  {
   "cell_type": "markdown",
   "id": "811dd196",
   "metadata": {},
   "source": [
    "## 9. When using a Gaussian mixture model, can you name two techniques for determining the correct number of clusters?"
   ]
  },
  {
   "cell_type": "markdown",
   "id": "13c22a04",
   "metadata": {},
   "source": [
    "How can a Gaussian mixture model be used for clustering? Gaussian mixture models (GMMs) are often used for data clustering. You can use GMMs to perform either hard clustering or soft clustering on query data. To perform hard clustering, the GMM assigns query data points to the multivariate normal components that maximize the component posterior probability, given the data."
   ]
  },
  {
   "cell_type": "code",
   "execution_count": null,
   "id": "e55f71f6",
   "metadata": {},
   "outputs": [],
   "source": []
  }
 ],
 "metadata": {
  "kernelspec": {
   "display_name": "Python 3 (ipykernel)",
   "language": "python",
   "name": "python3"
  },
  "language_info": {
   "codemirror_mode": {
    "name": "ipython",
    "version": 3
   },
   "file_extension": ".py",
   "mimetype": "text/x-python",
   "name": "python",
   "nbconvert_exporter": "python",
   "pygments_lexer": "ipython3",
   "version": "3.9.7"
  }
 },
 "nbformat": 4,
 "nbformat_minor": 5
}
